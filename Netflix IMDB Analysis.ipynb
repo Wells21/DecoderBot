{
 "cells": [
  {
   "cell_type": "markdown",
   "id": "f18ce651",
   "metadata": {},
   "source": [
    "## Netflix IMDB Score Analysis"
   ]
  },
  {
   "cell_type": "markdown",
   "id": "6e6a733e",
   "metadata": {},
   "source": [
    "IMDb, which stands for Internet Movie Database, is an online database of information related to films, television programs, home videos, and streaming content. It is a comprehensive resource that includes details about movies, TV shows, cast and crew information, user ratings, reviews, and more. Users can rate and review movies on IMDb based on their personal opinions and experiences."
   ]
  },
  {
   "cell_type": "code",
   "execution_count": 1,
   "id": "94122a89",
   "metadata": {},
   "outputs": [],
   "source": [
    "# importing neccesary libaries\n",
    "import pandas as pd\n",
    "import os"
   ]
  },
  {
   "cell_type": "code",
   "execution_count": 2,
   "id": "f025c5f0",
   "metadata": {},
   "outputs": [
    {
     "data": {
      "text/plain": [
       "'C:\\\\Users\\\\WELLS\\\\Documents\\\\rebuilding portfolio projects\\\\DecoderBot\\\\Netflix'"
      ]
     },
     "execution_count": 2,
     "metadata": {},
     "output_type": "execute_result"
    }
   ],
   "source": [
    "os.getcwd()"
   ]
  },
  {
   "cell_type": "code",
   "execution_count": 3,
   "id": "9543cfa1",
   "metadata": {},
   "outputs": [],
   "source": [
    "data = pd.read_csv(r'C:\\\\Users\\\\WELLS\\\\Documents\\\\rebuilding portfolio projects\\\\DecoderBot\\\\Netflix\\\\Task 1- Netflix TV Shows and Movies.csv')"
   ]
  },
  {
   "cell_type": "code",
   "execution_count": 4,
   "id": "a32cbd9f",
   "metadata": {},
   "outputs": [
    {
     "data": {
      "text/html": [
       "<div>\n",
       "<style scoped>\n",
       "    .dataframe tbody tr th:only-of-type {\n",
       "        vertical-align: middle;\n",
       "    }\n",
       "\n",
       "    .dataframe tbody tr th {\n",
       "        vertical-align: top;\n",
       "    }\n",
       "\n",
       "    .dataframe thead th {\n",
       "        text-align: right;\n",
       "    }\n",
       "</style>\n",
       "<table border=\"1\" class=\"dataframe\">\n",
       "  <thead>\n",
       "    <tr style=\"text-align: right;\">\n",
       "      <th></th>\n",
       "      <th>index</th>\n",
       "      <th>id</th>\n",
       "      <th>title</th>\n",
       "      <th>type</th>\n",
       "      <th>description</th>\n",
       "      <th>release_year</th>\n",
       "      <th>age_certification</th>\n",
       "      <th>runtime</th>\n",
       "      <th>imdb_id</th>\n",
       "      <th>imdb_score</th>\n",
       "      <th>imdb_votes</th>\n",
       "    </tr>\n",
       "  </thead>\n",
       "  <tbody>\n",
       "    <tr>\n",
       "      <th>0</th>\n",
       "      <td>0</td>\n",
       "      <td>tm84618</td>\n",
       "      <td>Taxi Driver</td>\n",
       "      <td>MOVIE</td>\n",
       "      <td>A mentally unstable Vietnam War veteran works ...</td>\n",
       "      <td>1976</td>\n",
       "      <td>R</td>\n",
       "      <td>113</td>\n",
       "      <td>tt0075314</td>\n",
       "      <td>8.3</td>\n",
       "      <td>795222.0</td>\n",
       "    </tr>\n",
       "    <tr>\n",
       "      <th>1</th>\n",
       "      <td>1</td>\n",
       "      <td>tm127384</td>\n",
       "      <td>Monty Python and the Holy Grail</td>\n",
       "      <td>MOVIE</td>\n",
       "      <td>King Arthur, accompanied by his squire, recrui...</td>\n",
       "      <td>1975</td>\n",
       "      <td>PG</td>\n",
       "      <td>91</td>\n",
       "      <td>tt0071853</td>\n",
       "      <td>8.2</td>\n",
       "      <td>530877.0</td>\n",
       "    </tr>\n",
       "    <tr>\n",
       "      <th>2</th>\n",
       "      <td>2</td>\n",
       "      <td>tm70993</td>\n",
       "      <td>Life of Brian</td>\n",
       "      <td>MOVIE</td>\n",
       "      <td>Brian Cohen is an average young Jewish man, bu...</td>\n",
       "      <td>1979</td>\n",
       "      <td>R</td>\n",
       "      <td>94</td>\n",
       "      <td>tt0079470</td>\n",
       "      <td>8.0</td>\n",
       "      <td>392419.0</td>\n",
       "    </tr>\n",
       "    <tr>\n",
       "      <th>3</th>\n",
       "      <td>3</td>\n",
       "      <td>tm190788</td>\n",
       "      <td>The Exorcist</td>\n",
       "      <td>MOVIE</td>\n",
       "      <td>12-year-old Regan MacNeil begins to adapt an e...</td>\n",
       "      <td>1973</td>\n",
       "      <td>R</td>\n",
       "      <td>133</td>\n",
       "      <td>tt0070047</td>\n",
       "      <td>8.1</td>\n",
       "      <td>391942.0</td>\n",
       "    </tr>\n",
       "    <tr>\n",
       "      <th>4</th>\n",
       "      <td>4</td>\n",
       "      <td>ts22164</td>\n",
       "      <td>Monty Python's Flying Circus</td>\n",
       "      <td>SHOW</td>\n",
       "      <td>A British sketch comedy series with the shows ...</td>\n",
       "      <td>1969</td>\n",
       "      <td>TV-14</td>\n",
       "      <td>30</td>\n",
       "      <td>tt0063929</td>\n",
       "      <td>8.8</td>\n",
       "      <td>72895.0</td>\n",
       "    </tr>\n",
       "  </tbody>\n",
       "</table>\n",
       "</div>"
      ],
      "text/plain": [
       "   index        id                            title   type  \\\n",
       "0      0   tm84618                      Taxi Driver  MOVIE   \n",
       "1      1  tm127384  Monty Python and the Holy Grail  MOVIE   \n",
       "2      2   tm70993                    Life of Brian  MOVIE   \n",
       "3      3  tm190788                     The Exorcist  MOVIE   \n",
       "4      4   ts22164     Monty Python's Flying Circus   SHOW   \n",
       "\n",
       "                                         description  release_year  \\\n",
       "0  A mentally unstable Vietnam War veteran works ...          1976   \n",
       "1  King Arthur, accompanied by his squire, recrui...          1975   \n",
       "2  Brian Cohen is an average young Jewish man, bu...          1979   \n",
       "3  12-year-old Regan MacNeil begins to adapt an e...          1973   \n",
       "4  A British sketch comedy series with the shows ...          1969   \n",
       "\n",
       "  age_certification  runtime    imdb_id  imdb_score  imdb_votes  \n",
       "0                 R      113  tt0075314         8.3    795222.0  \n",
       "1                PG       91  tt0071853         8.2    530877.0  \n",
       "2                 R       94  tt0079470         8.0    392419.0  \n",
       "3                 R      133  tt0070047         8.1    391942.0  \n",
       "4             TV-14       30  tt0063929         8.8     72895.0  "
      ]
     },
     "execution_count": 4,
     "metadata": {},
     "output_type": "execute_result"
    }
   ],
   "source": [
    "# previewing the data\n",
    "data.head()"
   ]
  },
  {
   "cell_type": "code",
   "execution_count": 5,
   "id": "b74de66d",
   "metadata": {},
   "outputs": [
    {
     "data": {
      "text/plain": [
       "(5283, 11)"
      ]
     },
     "execution_count": 5,
     "metadata": {},
     "output_type": "execute_result"
    }
   ],
   "source": [
    "data.shape"
   ]
  },
  {
   "cell_type": "markdown",
   "id": "e260dbdb",
   "metadata": {},
   "source": [
    "### Understanding the data"
   ]
  },
  {
   "cell_type": "markdown",
   "id": "9296e7ff",
   "metadata": {},
   "source": [
    "-----"
   ]
  },
  {
   "cell_type": "markdown",
   "id": "d28e9481",
   "metadata": {},
   "source": [
    "**id**: This column represents a unique identifier for each movie or TV show in the dataset.\n",
    "\n",
    "\n",
    "**title**: This column contains the title of the movie or TV show.\n",
    "\n",
    "\n",
    "**type**: This column indicates the type of content, such as whether it's a movie or a TV show.\n",
    "\n",
    "\n",
    "**description**: This column contains a brief description or summary of the movie or TV show.\n",
    "\n",
    "\n",
    "**release_year**: This column indicates the year when the movie or TV show was released.\n",
    "\n",
    "\n",
    "**age_certification**: This column contain information about the age certification or rating assigned to the content, indicating the appropriate audience age.\n",
    "\n",
    "\n",
    "**runtime**: This column represents the duration or runtime of the movie or TV show in minutes.\n",
    "\n",
    "\n",
    "**imdb_id**: This column contains the IMDb identifier for the movie or TV show.\n",
    "\n",
    "\n",
    "**imdb_score**: This column represents the IMDb score assigned to the movie or TV show by users. Ranging from 1 (lowest) - 10 (highest)\n",
    "\n",
    "\n",
    "**imdb_votes**: This column contains the number of votes that contributed to the IMDb score for the movie or TV show."
   ]
  },
  {
   "cell_type": "markdown",
   "id": "47725c88",
   "metadata": {},
   "source": [
    "----"
   ]
  },
  {
   "cell_type": "markdown",
   "id": "7423f107",
   "metadata": {},
   "source": [
    "### Data Preprocessing"
   ]
  },
  {
   "cell_type": "code",
   "execution_count": 6,
   "id": "69cdecd7",
   "metadata": {},
   "outputs": [],
   "source": [
    "# lets drop columns we won't be needing for the analysis\n",
    "\n",
    "data.drop(columns = ['index', 'id', 'imdb_id'], inplace = True)"
   ]
  },
  {
   "cell_type": "code",
   "execution_count": 7,
   "id": "2629a75f",
   "metadata": {},
   "outputs": [
    {
     "data": {
      "text/plain": [
       "(5283, 8)"
      ]
     },
     "execution_count": 7,
     "metadata": {},
     "output_type": "execute_result"
    }
   ],
   "source": [
    "data.shape"
   ]
  },
  {
   "cell_type": "code",
   "execution_count": 8,
   "id": "adc48898",
   "metadata": {},
   "outputs": [
    {
     "name": "stdout",
     "output_type": "stream",
     "text": [
      "<class 'pandas.core.frame.DataFrame'>\n",
      "RangeIndex: 5283 entries, 0 to 5282\n",
      "Data columns (total 8 columns):\n",
      " #   Column             Non-Null Count  Dtype  \n",
      "---  ------             --------------  -----  \n",
      " 0   title              5283 non-null   object \n",
      " 1   type               5283 non-null   object \n",
      " 2   description        5278 non-null   object \n",
      " 3   release_year       5283 non-null   int64  \n",
      " 4   age_certification  2998 non-null   object \n",
      " 5   runtime            5283 non-null   int64  \n",
      " 6   imdb_score         5283 non-null   float64\n",
      " 7   imdb_votes         5267 non-null   float64\n",
      "dtypes: float64(2), int64(2), object(4)\n",
      "memory usage: 330.3+ KB\n"
     ]
    }
   ],
   "source": [
    "# checking for missing values, incorrect formatting...\n",
    "\n",
    "data.info()"
   ]
  },
  {
   "cell_type": "markdown",
   "id": "90916abe",
   "metadata": {},
   "source": [
    "---"
   ]
  },
  {
   "cell_type": "markdown",
   "id": "58c21154",
   "metadata": {},
   "source": [
    "As we can see, in the *age_certification* column, we have over half of the total oservations of the data missing, and in this  analysis, we cant afford to remove the rows that are missing, because it will significantly affect our analysis overall. And, we cant also afford to impute the highest occuring value in the age certification column, because in that sense, it will make our anlaysis bias.\n",
    "\n",
    "What we are going to do is to remove the entire column, so that consistency in the metrics provided would be accurate."
   ]
  },
  {
   "cell_type": "code",
   "execution_count": 9,
   "id": "f93097b0",
   "metadata": {},
   "outputs": [],
   "source": [
    "# dropping the age_certification column\n",
    "\n",
    "data.drop(columns = ['age_certification'], inplace = True)"
   ]
  },
  {
   "cell_type": "markdown",
   "id": "402b3810",
   "metadata": {},
   "source": [
    "Now, after doing that, lets take a look at the imdb_votes column, the column contains 5267 observations out of 5283. In this case, we are going to drop rows that contains null values in the dataset."
   ]
  },
  {
   "cell_type": "code",
   "execution_count": 10,
   "id": "122b9696",
   "metadata": {},
   "outputs": [],
   "source": [
    "data.dropna(subset=['imdb_votes'], inplace=True)"
   ]
  },
  {
   "cell_type": "code",
   "execution_count": 11,
   "id": "7cd855de",
   "metadata": {},
   "outputs": [
    {
     "data": {
      "text/plain": [
       "(5267, 7)"
      ]
     },
     "execution_count": 11,
     "metadata": {},
     "output_type": "execute_result"
    }
   ],
   "source": [
    "data.shape"
   ]
  },
  {
   "cell_type": "code",
   "execution_count": 12,
   "id": "5b5044ff",
   "metadata": {},
   "outputs": [
    {
     "name": "stdout",
     "output_type": "stream",
     "text": [
      "<class 'pandas.core.frame.DataFrame'>\n",
      "Int64Index: 5267 entries, 0 to 5282\n",
      "Data columns (total 7 columns):\n",
      " #   Column        Non-Null Count  Dtype  \n",
      "---  ------        --------------  -----  \n",
      " 0   title         5267 non-null   object \n",
      " 1   type          5267 non-null   object \n",
      " 2   description   5263 non-null   object \n",
      " 3   release_year  5267 non-null   int64  \n",
      " 4   runtime       5267 non-null   int64  \n",
      " 5   imdb_score    5267 non-null   float64\n",
      " 6   imdb_votes    5267 non-null   float64\n",
      "dtypes: float64(2), int64(2), object(3)\n",
      "memory usage: 329.2+ KB\n"
     ]
    }
   ],
   "source": [
    "data.info()"
   ]
  },
  {
   "cell_type": "code",
   "execution_count": 13,
   "id": "d5224643",
   "metadata": {},
   "outputs": [],
   "source": [
    "data.drop(columns = ['description'], inplace = True)"
   ]
  },
  {
   "cell_type": "code",
   "execution_count": 14,
   "id": "6b2a2ac9",
   "metadata": {},
   "outputs": [],
   "source": [
    "# checking for duplicates\n",
    "\n",
    "data.drop_duplicates(inplace=True)"
   ]
  },
  {
   "cell_type": "code",
   "execution_count": 15,
   "id": "ba4893d4",
   "metadata": {},
   "outputs": [
    {
     "data": {
      "text/plain": [
       "(5267, 6)"
      ]
     },
     "execution_count": 15,
     "metadata": {},
     "output_type": "execute_result"
    }
   ],
   "source": [
    "data.shape"
   ]
  },
  {
   "cell_type": "markdown",
   "id": "9365e61b",
   "metadata": {},
   "source": [
    "Data is cleaned and correctly formatted, also contains no duplicates in the data. Now, the data is ready for analysis, and further preprocessing"
   ]
  },
  {
   "cell_type": "code",
   "execution_count": 16,
   "id": "d62aa07f",
   "metadata": {},
   "outputs": [
    {
     "data": {
      "text/html": [
       "<div>\n",
       "<style scoped>\n",
       "    .dataframe tbody tr th:only-of-type {\n",
       "        vertical-align: middle;\n",
       "    }\n",
       "\n",
       "    .dataframe tbody tr th {\n",
       "        vertical-align: top;\n",
       "    }\n",
       "\n",
       "    .dataframe thead th {\n",
       "        text-align: right;\n",
       "    }\n",
       "</style>\n",
       "<table border=\"1\" class=\"dataframe\">\n",
       "  <thead>\n",
       "    <tr style=\"text-align: right;\">\n",
       "      <th></th>\n",
       "      <th>release_year</th>\n",
       "      <th>runtime</th>\n",
       "      <th>imdb_score</th>\n",
       "      <th>imdb_votes</th>\n",
       "    </tr>\n",
       "  </thead>\n",
       "  <tbody>\n",
       "    <tr>\n",
       "      <th>count</th>\n",
       "      <td>5267.000000</td>\n",
       "      <td>5267.000000</td>\n",
       "      <td>5267.000000</td>\n",
       "      <td>5.267000e+03</td>\n",
       "    </tr>\n",
       "    <tr>\n",
       "      <th>mean</th>\n",
       "      <td>2015.869375</td>\n",
       "      <td>79.308335</td>\n",
       "      <td>6.533264</td>\n",
       "      <td>2.340719e+04</td>\n",
       "    </tr>\n",
       "    <tr>\n",
       "      <th>std</th>\n",
       "      <td>7.353379</td>\n",
       "      <td>38.886352</td>\n",
       "      <td>1.161348</td>\n",
       "      <td>8.713432e+04</td>\n",
       "    </tr>\n",
       "    <tr>\n",
       "      <th>min</th>\n",
       "      <td>1953.000000</td>\n",
       "      <td>0.000000</td>\n",
       "      <td>1.500000</td>\n",
       "      <td>5.000000e+00</td>\n",
       "    </tr>\n",
       "    <tr>\n",
       "      <th>25%</th>\n",
       "      <td>2015.000000</td>\n",
       "      <td>46.000000</td>\n",
       "      <td>5.800000</td>\n",
       "      <td>5.210000e+02</td>\n",
       "    </tr>\n",
       "    <tr>\n",
       "      <th>50%</th>\n",
       "      <td>2018.000000</td>\n",
       "      <td>87.000000</td>\n",
       "      <td>6.600000</td>\n",
       "      <td>2.279000e+03</td>\n",
       "    </tr>\n",
       "    <tr>\n",
       "      <th>75%</th>\n",
       "      <td>2020.000000</td>\n",
       "      <td>106.000000</td>\n",
       "      <td>7.400000</td>\n",
       "      <td>1.014400e+04</td>\n",
       "    </tr>\n",
       "    <tr>\n",
       "      <th>max</th>\n",
       "      <td>2022.000000</td>\n",
       "      <td>235.000000</td>\n",
       "      <td>9.600000</td>\n",
       "      <td>2.268288e+06</td>\n",
       "    </tr>\n",
       "  </tbody>\n",
       "</table>\n",
       "</div>"
      ],
      "text/plain": [
       "       release_year      runtime   imdb_score    imdb_votes\n",
       "count   5267.000000  5267.000000  5267.000000  5.267000e+03\n",
       "mean    2015.869375    79.308335     6.533264  2.340719e+04\n",
       "std        7.353379    38.886352     1.161348  8.713432e+04\n",
       "min     1953.000000     0.000000     1.500000  5.000000e+00\n",
       "25%     2015.000000    46.000000     5.800000  5.210000e+02\n",
       "50%     2018.000000    87.000000     6.600000  2.279000e+03\n",
       "75%     2020.000000   106.000000     7.400000  1.014400e+04\n",
       "max     2022.000000   235.000000     9.600000  2.268288e+06"
      ]
     },
     "execution_count": 16,
     "metadata": {},
     "output_type": "execute_result"
    }
   ],
   "source": [
    "# first of all, lets check the summary of the numeric data\n",
    "\n",
    "data.describe()"
   ]
  },
  {
   "cell_type": "markdown",
   "id": "60ddef8d",
   "metadata": {},
   "source": [
    "The IMDB scores ranges from 1 to 10, therefore as we can see, the max and min values in the scores are correct and there are no outliers"
   ]
  },
  {
   "cell_type": "code",
   "execution_count": 17,
   "id": "845db295",
   "metadata": {},
   "outputs": [
    {
     "data": {
      "text/html": [
       "<div>\n",
       "<style scoped>\n",
       "    .dataframe tbody tr th:only-of-type {\n",
       "        vertical-align: middle;\n",
       "    }\n",
       "\n",
       "    .dataframe tbody tr th {\n",
       "        vertical-align: top;\n",
       "    }\n",
       "\n",
       "    .dataframe thead th {\n",
       "        text-align: right;\n",
       "    }\n",
       "</style>\n",
       "<table border=\"1\" class=\"dataframe\">\n",
       "  <thead>\n",
       "    <tr style=\"text-align: right;\">\n",
       "      <th></th>\n",
       "      <th>title</th>\n",
       "      <th>type</th>\n",
       "      <th>release_year</th>\n",
       "      <th>runtime</th>\n",
       "      <th>imdb_score</th>\n",
       "      <th>imdb_votes</th>\n",
       "    </tr>\n",
       "  </thead>\n",
       "  <tbody>\n",
       "    <tr>\n",
       "      <th>0</th>\n",
       "      <td>Taxi Driver</td>\n",
       "      <td>MOVIE</td>\n",
       "      <td>1976</td>\n",
       "      <td>113</td>\n",
       "      <td>8.3</td>\n",
       "      <td>795222.0</td>\n",
       "    </tr>\n",
       "    <tr>\n",
       "      <th>1</th>\n",
       "      <td>Monty Python and the Holy Grail</td>\n",
       "      <td>MOVIE</td>\n",
       "      <td>1975</td>\n",
       "      <td>91</td>\n",
       "      <td>8.2</td>\n",
       "      <td>530877.0</td>\n",
       "    </tr>\n",
       "    <tr>\n",
       "      <th>2</th>\n",
       "      <td>Life of Brian</td>\n",
       "      <td>MOVIE</td>\n",
       "      <td>1979</td>\n",
       "      <td>94</td>\n",
       "      <td>8.0</td>\n",
       "      <td>392419.0</td>\n",
       "    </tr>\n",
       "    <tr>\n",
       "      <th>3</th>\n",
       "      <td>The Exorcist</td>\n",
       "      <td>MOVIE</td>\n",
       "      <td>1973</td>\n",
       "      <td>133</td>\n",
       "      <td>8.1</td>\n",
       "      <td>391942.0</td>\n",
       "    </tr>\n",
       "    <tr>\n",
       "      <th>4</th>\n",
       "      <td>Monty Python's Flying Circus</td>\n",
       "      <td>SHOW</td>\n",
       "      <td>1969</td>\n",
       "      <td>30</td>\n",
       "      <td>8.8</td>\n",
       "      <td>72895.0</td>\n",
       "    </tr>\n",
       "  </tbody>\n",
       "</table>\n",
       "</div>"
      ],
      "text/plain": [
       "                             title   type  release_year  runtime  imdb_score  \\\n",
       "0                      Taxi Driver  MOVIE          1976      113         8.3   \n",
       "1  Monty Python and the Holy Grail  MOVIE          1975       91         8.2   \n",
       "2                    Life of Brian  MOVIE          1979       94         8.0   \n",
       "3                     The Exorcist  MOVIE          1973      133         8.1   \n",
       "4     Monty Python's Flying Circus   SHOW          1969       30         8.8   \n",
       "\n",
       "   imdb_votes  \n",
       "0    795222.0  \n",
       "1    530877.0  \n",
       "2    392419.0  \n",
       "3    391942.0  \n",
       "4     72895.0  "
      ]
     },
     "execution_count": 17,
     "metadata": {},
     "output_type": "execute_result"
    }
   ],
   "source": [
    "data.head()"
   ]
  },
  {
   "cell_type": "markdown",
   "id": "9f43f103",
   "metadata": {},
   "source": [
    "Now, we are going to be performing feature engineering using the imdb_votes and imdb_score columns. \n",
    "\n",
    "We would be creating a column called imdb_strength, which would be generated from dividing the imdb_score from the imdb_votes.\n",
    "\n",
    "Why are we doing this? \n",
    "\n",
    "Because the strength of the imdb score depends on the number of votes related to that score.\n",
    "\n",
    "Therefore there is need for the imdb_strength to tell us the strength of the score across different movies."
   ]
  },
  {
   "cell_type": "code",
   "execution_count": 18,
   "id": "858399a3",
   "metadata": {},
   "outputs": [],
   "source": [
    "data['imdb_strength'] = data.imdb_votes / data.imdb_score"
   ]
  },
  {
   "cell_type": "code",
   "execution_count": 19,
   "id": "c4be1eaa",
   "metadata": {},
   "outputs": [],
   "source": [
    "data['imdb_strength'] = data['imdb_strength'].round(1)"
   ]
  },
  {
   "cell_type": "code",
   "execution_count": 20,
   "id": "38cae61b",
   "metadata": {},
   "outputs": [
    {
     "data": {
      "text/html": [
       "<div>\n",
       "<style scoped>\n",
       "    .dataframe tbody tr th:only-of-type {\n",
       "        vertical-align: middle;\n",
       "    }\n",
       "\n",
       "    .dataframe tbody tr th {\n",
       "        vertical-align: top;\n",
       "    }\n",
       "\n",
       "    .dataframe thead th {\n",
       "        text-align: right;\n",
       "    }\n",
       "</style>\n",
       "<table border=\"1\" class=\"dataframe\">\n",
       "  <thead>\n",
       "    <tr style=\"text-align: right;\">\n",
       "      <th></th>\n",
       "      <th>title</th>\n",
       "      <th>type</th>\n",
       "      <th>release_year</th>\n",
       "      <th>runtime</th>\n",
       "      <th>imdb_score</th>\n",
       "      <th>imdb_votes</th>\n",
       "      <th>imdb_strength</th>\n",
       "    </tr>\n",
       "  </thead>\n",
       "  <tbody>\n",
       "    <tr>\n",
       "      <th>0</th>\n",
       "      <td>Taxi Driver</td>\n",
       "      <td>MOVIE</td>\n",
       "      <td>1976</td>\n",
       "      <td>113</td>\n",
       "      <td>8.3</td>\n",
       "      <td>795222.0</td>\n",
       "      <td>95809.9</td>\n",
       "    </tr>\n",
       "    <tr>\n",
       "      <th>1</th>\n",
       "      <td>Monty Python and the Holy Grail</td>\n",
       "      <td>MOVIE</td>\n",
       "      <td>1975</td>\n",
       "      <td>91</td>\n",
       "      <td>8.2</td>\n",
       "      <td>530877.0</td>\n",
       "      <td>64741.1</td>\n",
       "    </tr>\n",
       "    <tr>\n",
       "      <th>2</th>\n",
       "      <td>Life of Brian</td>\n",
       "      <td>MOVIE</td>\n",
       "      <td>1979</td>\n",
       "      <td>94</td>\n",
       "      <td>8.0</td>\n",
       "      <td>392419.0</td>\n",
       "      <td>49052.4</td>\n",
       "    </tr>\n",
       "    <tr>\n",
       "      <th>3</th>\n",
       "      <td>The Exorcist</td>\n",
       "      <td>MOVIE</td>\n",
       "      <td>1973</td>\n",
       "      <td>133</td>\n",
       "      <td>8.1</td>\n",
       "      <td>391942.0</td>\n",
       "      <td>48387.9</td>\n",
       "    </tr>\n",
       "    <tr>\n",
       "      <th>4</th>\n",
       "      <td>Monty Python's Flying Circus</td>\n",
       "      <td>SHOW</td>\n",
       "      <td>1969</td>\n",
       "      <td>30</td>\n",
       "      <td>8.8</td>\n",
       "      <td>72895.0</td>\n",
       "      <td>8283.5</td>\n",
       "    </tr>\n",
       "  </tbody>\n",
       "</table>\n",
       "</div>"
      ],
      "text/plain": [
       "                             title   type  release_year  runtime  imdb_score  \\\n",
       "0                      Taxi Driver  MOVIE          1976      113         8.3   \n",
       "1  Monty Python and the Holy Grail  MOVIE          1975       91         8.2   \n",
       "2                    Life of Brian  MOVIE          1979       94         8.0   \n",
       "3                     The Exorcist  MOVIE          1973      133         8.1   \n",
       "4     Monty Python's Flying Circus   SHOW          1969       30         8.8   \n",
       "\n",
       "   imdb_votes  imdb_strength  \n",
       "0    795222.0        95809.9  \n",
       "1    530877.0        64741.1  \n",
       "2    392419.0        49052.4  \n",
       "3    391942.0        48387.9  \n",
       "4     72895.0         8283.5  "
      ]
     },
     "execution_count": 20,
     "metadata": {},
     "output_type": "execute_result"
    }
   ],
   "source": [
    "data.head()"
   ]
  },
  {
   "cell_type": "markdown",
   "id": "d8494f14",
   "metadata": {},
   "source": [
    "Now, the data is ready for the dashboard build-up."
   ]
  },
  {
   "cell_type": "code",
   "execution_count": null,
   "id": "5aa7cb39",
   "metadata": {},
   "outputs": [],
   "source": [
    "# extracting the data\n",
    "\n",
    "data.to_csv('netflix.csv', index = False)"
   ]
  },
  {
   "cell_type": "code",
   "execution_count": null,
   "id": "82900edd",
   "metadata": {},
   "outputs": [],
   "source": []
  },
  {
   "cell_type": "code",
   "execution_count": null,
   "id": "ee2b10e7",
   "metadata": {},
   "outputs": [],
   "source": []
  },
  {
   "cell_type": "code",
   "execution_count": null,
   "id": "da3863f9",
   "metadata": {},
   "outputs": [],
   "source": []
  },
  {
   "cell_type": "code",
   "execution_count": null,
   "id": "12402410",
   "metadata": {},
   "outputs": [],
   "source": []
  },
  {
   "cell_type": "code",
   "execution_count": null,
   "id": "399fe13f",
   "metadata": {},
   "outputs": [],
   "source": []
  },
  {
   "cell_type": "code",
   "execution_count": null,
   "id": "f975f8a8",
   "metadata": {},
   "outputs": [],
   "source": []
  }
 ],
 "metadata": {
  "kernelspec": {
   "display_name": "Python 3 (ipykernel)",
   "language": "python",
   "name": "python3"
  },
  "language_info": {
   "codemirror_mode": {
    "name": "ipython",
    "version": 3
   },
   "file_extension": ".py",
   "mimetype": "text/x-python",
   "name": "python",
   "nbconvert_exporter": "python",
   "pygments_lexer": "ipython3",
   "version": "3.10.9"
  }
 },
 "nbformat": 4,
 "nbformat_minor": 5
}
